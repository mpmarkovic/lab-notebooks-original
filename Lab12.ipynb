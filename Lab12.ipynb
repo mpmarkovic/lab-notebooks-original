{
  "cells": [
    {
      "cell_type": "markdown",
      "metadata": {
        "id": "view-in-github",
        "colab_type": "text"
      },
      "source": [
        "<a href=\"https://colab.research.google.com/github/mpmarkovic/lab-notebooks-original/blob/main/Lab12.ipynb\" target=\"_parent\"><img src=\"https://colab.research.google.com/assets/colab-badge.svg\" alt=\"Open In Colab\"/></a>"
      ]
    },
    {
      "cell_type": "markdown",
      "metadata": {
        "id": "6Wll8J27iXQD"
      },
      "source": [
        "<a href=\"https://colab.research.google.com/github/LMU-CMSI-1010/lab-notebooks-original/blob/main/Lab12.ipynb\" target=\"_parent\"><img src=\"https://colab.research.google.com/assets/colab-badge.svg\" alt=\"Open In Colab\"/></a>"
      ]
    },
    {
      "cell_type": "markdown",
      "metadata": {
        "id": "9aXfrLXg9seM"
      },
      "source": [
        "Milla Penelope Markovic\n",
        "\n",
        "No Collaborators.\n",
        "\n",
        "3/22/22\n",
        "# Lab 12 Recursion Recursion\n",
        "This lab will give you the opportunity to write more recursive functions and to trace them.\n",
        "\n",
        "\n"
      ]
    },
    {
      "cell_type": "markdown",
      "metadata": {
        "id": "NeQK-bkp3AKI"
      },
      "source": [
        "## The Fibonacci Sequence\n",
        "A **sequence** is an ordered list of objects. In this case we will look at a sequence of numbers, the **Fibonacci Sequence**. We use variables such as f<sub>1</sub>, f<sub>2</sub>, f<sub>3</sub>, ... to mean the first number in the sequence, second number in the sequence, the third number in the sequence, and so forth.\n",
        "\n",
        "The **Fibonacci sequence** has the special relationship called a **recurrence** where we define a number in the sequence by the sum of the two numbers in the sequence before it. Let's look at the sequence now: <br>\n",
        "f<sub>1</sub> = 1, f<sub>2</sub> = 1, f<sub>3</sub> = 2, f<sub>4</sub> = 3, f<sub>5</sub> = 5, f<sub>6</sub> = 8, ...<br>\n",
        "Can you tell what f<sub>7</sub> should be? Let's look at the pattern. <br>\n",
        "We are given that f<sub>1</sub> is 1 and f<sub>2</sub> is 1. Those are the base cases. <br>\n",
        "Now look at the other terms: <br>\n",
        "f<sub>3</sub> = 2 = f<sub>1</sub> + f<sub>2</sub> = 1 + 1 <br>\n",
        "f<sub>4</sub> = 3 = f<sub>2</sub> + f<sub>3</sub> = 1 + 2 <br>\n",
        "f<sub>5</sub> = 5 = f<sub>3</sub> + f<sub>4</sub> = 2 + 3 <br>\n",
        "f<sub>6</sub> = 8 = f<sub>4</sub> + f<sub>5</sub> = 3 + 5 <br>\n",
        "If we continue this pattern for f<sub>7</sub> <br>\n",
        "f<sub>7</sub> = f<sub>5</sub> + f<sub>6</sub> = 5 + 8 = 13 <br>\n",
        "\n",
        "More generally, the n-th Fibonacci number equals the (n–2)-nd Fibonacci number plus the (n–1)-st Fibonacci number: <br>\n",
        "f<sub>n</sub> = f<sub>n–2</sub> + f<sub>n–1</sub> <br>\n",
        "\n",
        "**Do this:** In the following cell, you will complete code to compute the n-th Fibonacci number."
      ]
    },
    {
      "cell_type": "code",
      "execution_count": null,
      "metadata": {
        "colab": {
          "base_uri": "https://localhost:8080/"
        },
        "id": "9sggpWEB33fV",
        "outputId": "5e30feed-e805-4f73-b0c5-ac2ddeb0391f"
      },
      "outputs": [
        {
          "output_type": "stream",
          "name": "stdout",
          "text": [
            "13\n",
            "5\n"
          ]
        }
      ],
      "source": [
        "# fibonacci: Given an integer, n, greater than or equal to 1\n",
        "# returns the n-th Fibonacci number\n",
        "def fibonacci(n):\n",
        "    # Handle the error case if n is not greater than 0\n",
        "    # This case does not need to be changed\n",
        "    if n <= 0:\n",
        "        print('n must be greater than 0')\n",
        "        return 1\n",
        "\n",
        "    # Base cases for f1 and f2\n",
        "    # Use the example above to return\n",
        "    # f1 and f2\n",
        "    # ADD CODE HERE\n",
        "    if n == 1:\n",
        "        return 1\n",
        "    if n == 2:\n",
        "        return 1\n",
        "    \n",
        "    # recursive case\n",
        "    # this should make two recursive calls\n",
        "    # that means it makes two calls to itself with\n",
        "    # different input. What should that input be?\n",
        "    # ADD CODE HERE\n",
        "    if n >= 3:\n",
        "      return fibonacci(n-1) + fibonacci(n-2)\n",
        "\n",
        "    # Please remove the following line of code\n",
        "    # Right now this code returns 0 for any input greater\n",
        "    # than 0\n",
        "  \n",
        "\n",
        "\n",
        "print(fibonacci(7)) # This should print 13\n",
        "print(fibonacci(5)) # This should print 5"
      ]
    },
    {
      "cell_type": "markdown",
      "metadata": {
        "id": "3NnTCLBI5nsb"
      },
      "source": [
        "### Tracing Fibonacci\n",
        "Now take a moment to see what is happening when you call your function `fibonacci(4)` in order to return the fourth Fibonacci number. \n",
        "\n",
        "**Do this:** Visualize the sequence of function calls made by your function when you call `fibonacci(4)` to return the fourth Fibonacci number either by hand or through PythonTutor. Upload the resulting stack diagram to your lab notebooks repository and supply a plain language explanation of what is happening in the text box below:\n",
        "\n"
      ]
    },
    {
      "cell_type": "markdown",
      "metadata": {
        "id": "AGLvvN4FQMcz"
      },
      "source": [
        "***\n",
        "**Do this:**\n",
        "> Explain your uploaded stack diagram here.\n",
        "\n",
        "As shown in the stack diagram, which has been uploaded to my lab notebook repository, when calling fibonacci(4) the function acts recursively until reaching its base case.  This means that for any number called, the function will repeatedly call iteself for 1 subtracted from the last called number.  This will happen until the function's base case is reached.  In this example, the function has two base cases, when n = 1 and when n = 2.  When fibonacci(4) is called, the function calls fibonacci(3), then fibonacci(2), and fibonacci(1).  The function then uses the return values of fibonacci(1) and fibonacci(2) to return the value of fibonacci(3).  The values of fibonacci (2) and fibonacci(3) are used to return the value of fibonacci(4).\n",
        "\n",
        "***"
      ]
    },
    {
      "cell_type": "markdown",
      "metadata": {
        "id": "Jf26PqcvtJ7W"
      },
      "source": [
        "***\n",
        "**Exploratory question: Is there anything about the `fibonacci(4)` sequence that seems notable to you?**\n",
        "> Let us know what you think—we aren’t looking for a particular answer, just wondering what you notice (if any).\n",
        "\n",
        "When looking at the how sequence occurs in fibonacci(4) thorugh PythonTutor, it seems to follow the code as expected.  One thing thing I found interesting to watch how the return values became the n or input before dissapearing and providing the information necessary for the next frame.\n",
        "***"
      ]
    },
    {
      "cell_type": "markdown",
      "metadata": {
        "id": "VwQPNN6e6QI_"
      },
      "source": [
        "### Print a list backwards iteratively\n",
        "Given a list, write an *iterative function* to print the list backwards one element at a time.\n",
        "*Remember that iterative means to use a loop.*\n",
        "\n",
        "For example, if your function is given the list `[4, 7, 9, 2]`, your function should print\n",
        "```\n",
        "2 9 7 4\n",
        "```\n",
        "**Do this:** Complete the following function, `iterative_print_backwards`"
      ]
    },
    {
      "cell_type": "code",
      "execution_count": null,
      "metadata": {
        "colab": {
          "base_uri": "https://localhost:8080/"
        },
        "id": "rz-jwUKp6cUJ",
        "outputId": "3b54806f-7041-4f78-949f-ded02e6aeab7"
      },
      "outputs": [
        {
          "output_type": "stream",
          "name": "stdout",
          "text": [
            "2 9 7 4 \n",
            "4 3 2 1 \n"
          ]
        }
      ],
      "source": [
        "# iterative_print_backwards: given a list, this function prints\n",
        "# the list backwards one item at a time followed by a new line.\n",
        "# This function should not return anything.\n",
        "\n",
        "def iterative_print_backwards(test):\n",
        "    # Use a loop to go through list backwards \n",
        "    # printing each element one at a time\n",
        "    # ADD CODE HERE to go through the list\n",
        "    c = -1\n",
        "    for x in test:\n",
        "        # ADD CODE print element\n",
        "        # To print a space between each element \n",
        "        # use `end` as shown below.\n",
        "        print(test[c], end=' ')\n",
        "        c = c-1\n",
        "        # This line prints the first element of \n",
        "        # the list if it exists---remove it \n",
        "        # once you finish the function.\n",
        "            # print(test[0], end=' ')\n",
        "\n",
        "    # Print a new line for the entire list before returning\n",
        "    # This line below does not need to be changed\n",
        "    print()\n",
        "  \n",
        "# Test the function by making function calls\n",
        "# You do not need to change the following line of code\n",
        "# You can add more function calls to test your function  \n",
        "iterative_print_backwards([4, 7, 9, 2])\n",
        "iterative_print_backwards([1, 2, 3, 4])"
      ]
    },
    {
      "cell_type": "markdown",
      "metadata": {
        "id": "90Zthmy_S6AS"
      },
      "source": [
        "### Print a list backwards recursively\n",
        "Given a list, write a *recursive function* to print the list backwards one element at a time.\n",
        "*Remember that **recursive** means that the function must call itself.*\n",
        "\n",
        "For example, if your function is given the list, `[4, 7, 9, 2]`, your function should print\n",
        "```\n",
        "2 9 7 4\n",
        "```\n",
        "**Do this:** Complete the following function, `recursive_print_backwards`"
      ]
    },
    {
      "cell_type": "code",
      "execution_count": 28,
      "metadata": {
        "id": "ew5_E0TaTJw3",
        "colab": {
          "base_uri": "https://localhost:8080/"
        },
        "outputId": "73c756a3-c3a5-4873-ebe4-8a12674e086c"
      },
      "outputs": [
        {
          "output_type": "stream",
          "name": "stdout",
          "text": [
            "2 9 7 4\n",
            "None\n",
            "None\n",
            "None\n",
            "4 3 2 1\n",
            "None\n",
            "None\n",
            "None\n"
          ]
        }
      ],
      "source": [
        "# recursive_print_backwards: given a list, this function prints\n",
        "# the list backwards one item at a time followed by a new line.\n",
        "# This function should not return anything.\n",
        "\n",
        "def recursive_print_backwards(test):\n",
        "    # Go through list backwards printing each element one at a time\n",
        "    length = len(test)\n",
        "    # Base case: empty list, so nothing to print\n",
        "    if length == 0:\n",
        "        return\n",
        "    \n",
        "    # Base case: single element\n",
        "    # TO DO: Check for single element and print it\n",
        "    # followed by new line and return\n",
        "    # ADD CODE HERE\n",
        "    if length == 1:\n",
        "      print(test[0], end=\"\\n\")\n",
        "      return\n",
        "\n",
        "    # print the last element\n",
        "    print(test[-1], end=' ')\n",
        "    # Recursive case\n",
        "    # TO DO: Make another call to itself on a smaller list\n",
        "    # What list should be passed to the recursive call?\n",
        "    # ADD ONE LINE OF CODE HERE TO MAKE THE RECURSIVE CALL\n",
        "    if length > 1:\n",
        "      print(recursive_print_backwards(test[0:-1]))\n",
        "      return\n",
        "\n",
        "# Test the function by making function calls\n",
        "# You do not need to change the following line of code\n",
        "# You can add more function calls to test your function  \n",
        "recursive_print_backwards([4, 7, 9, 2])\n",
        "recursive_print_backwards([1, 2, 3, 4])"
      ]
    },
    {
      "cell_type": "markdown",
      "metadata": {
        "id": "0PA2HcBPQDrf"
      },
      "source": [
        "**Do this:**  Visualize the sequence of function calls made `recursive_print_backwards` either by hand or through PythonTutor. Upload the resulting stack diagram to your lab notebooks repository and supply a plain language explanation of what is happening in the text box below:"
      ]
    },
    {
      "cell_type": "markdown",
      "metadata": {
        "id": "lPupPwlKQdbv"
      },
      "source": [
        "***\n",
        "\n",
        "> Explain your uploaded stack diagram here.\n",
        "\n",
        "The stack diagram for this question has been uploaded to my lab notebooks repository.  In this function the length is assessed and is lessened by one in each iteration.  While the funciton does not have a return value, the function prints the last value of the list everytime the funciton calls itself, which makes this funciton recursive.  Once the function reaches the basecase of length == 1, the single value is printed and nothing is returned.  After this, the basecase of length == 0 is reached and the function again returns None.\n",
        "***"
      ]
    },
    {
      "cell_type": "markdown",
      "metadata": {
        "id": "dKL0LYd-E4JB"
      },
      "source": [
        "### Reflections\n",
        "Add a text cell below to answer the following questions:\n",
        "1. What do you feel more confident about after completing this lab?\n",
        "2. What do you feel you can use more help with after completing this lab?\n",
        "3. Do you have any constructive suggestions on how we can help you or improve this lab?"
      ]
    },
    {
      "cell_type": "markdown",
      "source": [
        "### Reflections\n",
        "Add a text cell below to answer the following questions:\n",
        "1. After completing this lab, I feel more confident writing recursive functions.\n",
        "2. I think I will need to practice this concept more in order to prepare for Exam #2.  There is not anything specific I am confused about, but it is a  new concept for me, so I think with some review I can improve.\n",
        "3. No, I thought this lab was helpful!"
      ],
      "metadata": {
        "id": "Sr2zNzXfgRwr"
      }
    },
    {
      "cell_type": "markdown",
      "metadata": {
        "id": "gB1aHDpyFYey"
      },
      "source": [
        "### Save your work to GitHub\n",
        "Please save this notebook to your lab repository."
      ]
    }
  ],
  "metadata": {
    "kernelspec": {
      "display_name": "Python 3",
      "language": "python",
      "name": "python3"
    },
    "language_info": {
      "codemirror_mode": {
        "name": "ipython",
        "version": 3
      },
      "file_extension": ".py",
      "mimetype": "text/x-python",
      "name": "python",
      "nbconvert_exporter": "python",
      "pygments_lexer": "ipython3",
      "version": "3.8.5"
    },
    "colab": {
      "name": "Lab12.ipynb",
      "provenance": [],
      "collapsed_sections": [],
      "include_colab_link": true
    }
  },
  "nbformat": 4,
  "nbformat_minor": 0
}